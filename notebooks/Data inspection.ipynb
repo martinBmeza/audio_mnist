{
 "cells": [
  {
   "cell_type": "code",
   "execution_count": 1,
   "id": "0a0721f3",
   "metadata": {},
   "outputs": [],
   "source": [
    "import glob\n",
    "import librosa\n",
    "import soundfile as sf\n",
    "import numpy as np\n",
    "import matplotlib.pyplot as plt\n",
    "from tqdm import tqdm\n",
    "from utils import dataset_info"
   ]
  },
  {
   "cell_type": "code",
   "execution_count": 2,
   "id": "7d6db3f5",
   "metadata": {},
   "outputs": [],
   "source": [
    "dataset_path = 'data/free-spoken-digit-dataset-master/recordings/'\n",
    "dataset_files = glob.glob(dataset_path+'/**/*.wav', recursive=True)"
   ]
  },
  {
   "cell_type": "code",
   "execution_count": 3,
   "id": "aad4b05d",
   "metadata": {},
   "outputs": [
    {
     "name": "stderr",
     "output_type": "stream",
     "text": [
      "100%|██████████████████████████████████████████████████████████████████████████████████████████████████| 3000/3000 [00:00<00:00, 5671.76it/s]\n"
     ]
    },
    {
     "data": {
      "image/png": "[encoded data removed]",
      "text/plain": [
       "<Figure size 720x360 with 1 Axes>"
      ]
     },
     "metadata": {
      "needs_background": "light"
     },
     "output_type": "display_data"
    },
    {
     "name": "stdout",
     "output_type": "stream",
     "text": [
      "Formatos de audio: {'WAV'}\n",
      "Frecuencias de muestreo: {8000}\n",
      "Cantidad de archivos: 3000\n"
     ]
    }
   ],
   "source": [
    "dataset_info(dataset_path)"
   ]
  },
  {
   "cell_type": "code",
   "execution_count": null,
   "id": "0adccb6c",
   "metadata": {},
   "outputs": [],
   "source": []
  }
 ],
 "metadata": {
  "kernelspec": {
   "display_name": "Python 3 (ipykernel)",
   "language": "python",
   "name": "python3"
  },
  "language_info": {
   "codemirror_mode": {
    "name": "ipython",
    "version": 3
   },
   "file_extension": ".py",
   "mimetype": "text/x-python",
   "name": "python",
   "nbconvert_exporter": "python",
   "pygments_lexer": "ipython3",
   "version": "3.7.11"
  }
 },
 "nbformat": 4,
 "nbformat_minor": 5
}
